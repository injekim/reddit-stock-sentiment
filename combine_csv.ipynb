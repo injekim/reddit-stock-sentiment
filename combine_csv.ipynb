{
 "cells": [
  {
   "cell_type": "code",
   "execution_count": 1,
   "metadata": {
    "collapsed": true,
    "ExecuteTime": {
     "end_time": "2023-07-28T09:20:44.035225Z",
     "start_time": "2023-07-28T09:20:42.616323Z"
    }
   },
   "outputs": [],
   "source": [
    "import pandas as pd"
   ]
  },
  {
   "cell_type": "code",
   "execution_count": 2,
   "outputs": [],
   "source": [
    "years = range(2018, 2023)\n",
    "months = range(1, 13)"
   ],
   "metadata": {
    "collapsed": false,
    "ExecuteTime": {
     "end_time": "2023-07-28T09:20:44.040706Z",
     "start_time": "2023-07-28T09:20:44.037287Z"
    }
   }
  },
  {
   "cell_type": "code",
   "execution_count": 3,
   "outputs": [
    {
     "name": "stdout",
     "output_type": "stream",
     "text": [
      "RS_2018-01.csv\n",
      "RS_2018-02.csv\n",
      "RS_2018-03.csv\n",
      "RS_2018-04.csv\n",
      "RS_2018-05.csv\n",
      "RS_2018-06.csv\n",
      "RS_2018-07.csv\n",
      "RS_2018-08.csv\n",
      "RS_2018-09.csv\n",
      "RS_2018-10.csv\n",
      "RS_2018-11.csv\n",
      "RS_2018-12.csv\n",
      "RS_2019-01.csv\n",
      "RS_2019-02.csv\n",
      "RS_2019-03.csv\n",
      "RS_2019-04.csv\n",
      "RS_2019-05.csv\n",
      "RS_2019-06.csv\n",
      "RS_2019-07.csv\n",
      "RS_2019-08.csv\n",
      "RS_2019-09.csv\n",
      "RS_2019-10.csv\n",
      "RS_2019-11.csv\n",
      "RS_2019-12.csv\n",
      "RS_2020-01.csv\n",
      "RS_2020-02.csv\n",
      "RS_2020-03.csv\n",
      "RS_2020-04.csv\n",
      "RS_2020-05.csv\n",
      "RS_2020-06.csv\n",
      "RS_2020-07.csv\n",
      "RS_2020-08.csv\n",
      "RS_2020-09.csv\n",
      "RS_2020-10.csv\n",
      "RS_2020-11.csv\n",
      "RS_2020-12.csv\n",
      "RS_2021-01.csv\n",
      "RS_2021-02.csv\n",
      "RS_2021-03.csv\n",
      "RS_2021-04.csv\n",
      "RS_2021-05.csv\n",
      "RS_2021-06.csv\n",
      "RS_2021-07.csv\n",
      "RS_2021-08.csv\n",
      "RS_2021-09.csv\n",
      "RS_2021-10.csv\n",
      "RS_2021-11.csv\n",
      "RS_2021-12.csv\n",
      "RS_2022-01.csv\n",
      "RS_2022-02.csv\n",
      "RS_2022-03.csv\n",
      "RS_2022-04.csv\n",
      "RS_2022-05.csv\n",
      "RS_2022-06.csv\n",
      "RS_2022-07.csv\n",
      "RS_2022-08.csv\n",
      "RS_2022-09.csv\n",
      "RS_2022-10.csv\n",
      "RS_2022-11.csv\n",
      "RS_2022-12.csv\n"
     ]
    }
   ],
   "source": [
    "df = pd.DataFrame()\n",
    "for year in years:\n",
    "    for month in months:\n",
    "        print(f'RS_{year}-{month:02d}.csv')\n",
    "        temp = pd.read_csv(f'/Volumes/Crucial X6/Dissertation/reddit/csv_new_stocks/RS_{year}-{month:02d}.csv')\n",
    "        df = pd.concat([df, temp])"
   ],
   "metadata": {
    "collapsed": false,
    "ExecuteTime": {
     "end_time": "2023-07-28T09:20:59.922060Z",
     "start_time": "2023-07-28T09:20:44.045743Z"
    }
   }
  },
  {
   "cell_type": "code",
   "execution_count": 5,
   "outputs": [],
   "source": [
    "df.to_csv('posts.csv', index=False)"
   ],
   "metadata": {
    "collapsed": false,
    "ExecuteTime": {
     "end_time": "2023-07-28T09:21:19.420177Z",
     "start_time": "2023-07-28T09:20:59.962168Z"
    }
   }
  }
 ],
 "metadata": {
  "kernelspec": {
   "display_name": "Python 3",
   "language": "python",
   "name": "python3"
  },
  "language_info": {
   "codemirror_mode": {
    "name": "ipython",
    "version": 2
   },
   "file_extension": ".py",
   "mimetype": "text/x-python",
   "name": "python",
   "nbconvert_exporter": "python",
   "pygments_lexer": "ipython2",
   "version": "2.7.6"
  }
 },
 "nbformat": 4,
 "nbformat_minor": 0
}
