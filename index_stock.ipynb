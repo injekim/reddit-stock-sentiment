{
 "cells": [
  {
   "cell_type": "code",
   "execution_count": 1,
   "metadata": {
    "collapsed": false,
    "jupyter": {
     "outputs_hidden": false
    }
   },
   "outputs": [],
   "source": [
    "from tqdm import tqdm\n",
    "import pandas as pd\n",
    "import re"
   ]
  },
  {
   "cell_type": "code",
   "execution_count": 2,
   "metadata": {
    "collapsed": false,
    "jupyter": {
     "outputs_hidden": false
    }
   },
   "outputs": [],
   "source": [
    "df = pd.read_csv('posts.csv')"
   ]
  },
  {
   "cell_type": "code",
   "execution_count": 3,
   "metadata": {
    "collapsed": false,
    "jupyter": {
     "outputs_hidden": false
    }
   },
   "outputs": [
    {
     "name": "stdout",
     "output_type": "stream",
     "text": [
      "727182 727182\n"
     ]
    }
   ],
   "source": [
    "# Check if id is unique\n",
    "print(df['id'].count(), df['id'].nunique())"
   ]
  },
  {
   "cell_type": "code",
   "execution_count": 4,
   "metadata": {
    "collapsed": false,
    "jupyter": {
     "outputs_hidden": false
    }
   },
   "outputs": [
    {
     "data": {
      "text/html": [
       "<div>\n",
       "<style scoped>\n",
       "    .dataframe tbody tr th:only-of-type {\n",
       "        vertical-align: middle;\n",
       "    }\n",
       "\n",
       "    .dataframe tbody tr th {\n",
       "        vertical-align: top;\n",
       "    }\n",
       "\n",
       "    .dataframe thead th {\n",
       "        text-align: right;\n",
       "    }\n",
       "</style>\n",
       "<table border=\"1\" class=\"dataframe\">\n",
       "  <thead>\n",
       "    <tr style=\"text-align: right;\">\n",
       "      <th></th>\n",
       "      <th>created_utc</th>\n",
       "      <th>subreddit</th>\n",
       "      <th>author</th>\n",
       "      <th>title</th>\n",
       "      <th>selftext</th>\n",
       "      <th>permalink</th>\n",
       "      <th>url</th>\n",
       "    </tr>\n",
       "    <tr>\n",
       "      <th>id</th>\n",
       "      <th></th>\n",
       "      <th></th>\n",
       "      <th></th>\n",
       "      <th></th>\n",
       "      <th></th>\n",
       "      <th></th>\n",
       "      <th></th>\n",
       "    </tr>\n",
       "  </thead>\n",
       "  <tbody>\n",
       "    <tr>\n",
       "      <th>7nca41</th>\n",
       "      <td>1514768665</td>\n",
       "      <td>wallstreetbets</td>\n",
       "      <td>alreadyinuse5000</td>\n",
       "      <td>Blowing versus sucking</td>\n",
       "      <td>AAPL just entered a contract to purchase 51 of...</td>\n",
       "      <td>/r/wallstreetbets/comments/7nca41/blowing_vers...</td>\n",
       "      <td>https://www.reddit.com/r/wallstreetbets/commen...</td>\n",
       "    </tr>\n",
       "    <tr>\n",
       "      <th>7ncxcn</th>\n",
       "      <td>1514776674</td>\n",
       "      <td>pcmasterrace</td>\n",
       "      <td>castatech</td>\n",
       "      <td>Why is it that the new Windows 10 picture view...</td>\n",
       "      <td>What kind of an upgrade was this? It just suck...</td>\n",
       "      <td>/r/pcmasterrace/comments/7ncxcn/why_is_it_that...</td>\n",
       "      <td>https://www.reddit.com/r/pcmasterrace/comments...</td>\n",
       "    </tr>\n",
       "    <tr>\n",
       "      <th>7ndtyy</th>\n",
       "      <td>1514789593</td>\n",
       "      <td>TIMESINDIAauto</td>\n",
       "      <td>AutoNewsAdmin</td>\n",
       "      <td>[Business] - New year looks grim for McD’s staff</td>\n",
       "      <td>NaN</td>\n",
       "      <td>/r/TIMESINDIAauto/comments/7ndtyy/business_new...</td>\n",
       "      <td>https://timesofindia.indiatimes.com/business/i...</td>\n",
       "    </tr>\n",
       "    <tr>\n",
       "      <th>7ndu9l</th>\n",
       "      <td>1514789727</td>\n",
       "      <td>AutoNewspaper</td>\n",
       "      <td>AutoNewspaperAdmin</td>\n",
       "      <td>[Business] - New year looks grim for McD’s sta...</td>\n",
       "      <td>NaN</td>\n",
       "      <td>/r/AutoNewspaper/comments/7ndu9l/business_new_...</td>\n",
       "      <td>https://timesofindia.indiatimes.com/business/i...</td>\n",
       "    </tr>\n",
       "    <tr>\n",
       "      <th>7neolz</th>\n",
       "      <td>1514805270</td>\n",
       "      <td>teslamotors</td>\n",
       "      <td>AutoModerator</td>\n",
       "      <td>Bi-weekly TSLA Investor Thread</td>\n",
       "      <td>This will post every other Monday (EST) at 6AM...</td>\n",
       "      <td>/r/teslamotors/comments/7neolz/biweekly_tsla_i...</td>\n",
       "      <td>https://www.reddit.com/r/teslamotors/comments/...</td>\n",
       "    </tr>\n",
       "  </tbody>\n",
       "</table>\n",
       "</div>"
      ],
      "text/plain": [
       "        created_utc       subreddit              author  \\\n",
       "id                                                        \n",
       "7nca41   1514768665  wallstreetbets    alreadyinuse5000   \n",
       "7ncxcn   1514776674    pcmasterrace           castatech   \n",
       "7ndtyy   1514789593  TIMESINDIAauto       AutoNewsAdmin   \n",
       "7ndu9l   1514789727   AutoNewspaper  AutoNewspaperAdmin   \n",
       "7neolz   1514805270     teslamotors       AutoModerator   \n",
       "\n",
       "                                                    title  \\\n",
       "id                                                          \n",
       "7nca41                             Blowing versus sucking   \n",
       "7ncxcn  Why is it that the new Windows 10 picture view...   \n",
       "7ndtyy   [Business] - New year looks grim for McD’s staff   \n",
       "7ndu9l  [Business] - New year looks grim for McD’s sta...   \n",
       "7neolz                     Bi-weekly TSLA Investor Thread   \n",
       "\n",
       "                                                 selftext  \\\n",
       "id                                                          \n",
       "7nca41  AAPL just entered a contract to purchase 51 of...   \n",
       "7ncxcn  What kind of an upgrade was this? It just suck...   \n",
       "7ndtyy                                                NaN   \n",
       "7ndu9l                                                NaN   \n",
       "7neolz  This will post every other Monday (EST) at 6AM...   \n",
       "\n",
       "                                                permalink  \\\n",
       "id                                                          \n",
       "7nca41  /r/wallstreetbets/comments/7nca41/blowing_vers...   \n",
       "7ncxcn  /r/pcmasterrace/comments/7ncxcn/why_is_it_that...   \n",
       "7ndtyy  /r/TIMESINDIAauto/comments/7ndtyy/business_new...   \n",
       "7ndu9l  /r/AutoNewspaper/comments/7ndu9l/business_new_...   \n",
       "7neolz  /r/teslamotors/comments/7neolz/biweekly_tsla_i...   \n",
       "\n",
       "                                                      url  \n",
       "id                                                         \n",
       "7nca41  https://www.reddit.com/r/wallstreetbets/commen...  \n",
       "7ncxcn  https://www.reddit.com/r/pcmasterrace/comments...  \n",
       "7ndtyy  https://timesofindia.indiatimes.com/business/i...  \n",
       "7ndu9l  https://timesofindia.indiatimes.com/business/i...  \n",
       "7neolz  https://www.reddit.com/r/teslamotors/comments/...  "
      ]
     },
     "execution_count": 4,
     "metadata": {},
     "output_type": "execute_result"
    }
   ],
   "source": [
    "df = df.set_index('id')\n",
    "df.head()"
   ]
  },
  {
   "cell_type": "code",
   "execution_count": 6,
   "metadata": {},
   "outputs": [
    {
     "name": "stderr",
     "output_type": "stream",
     "text": [
      "100%|██████████| 727182/727182 [03:29<00:00, 3463.34it/s]\n"
     ]
    }
   ],
   "source": [
    "keywords = ['tsla', 'aapl', 'msft', 'gme', 'nvda', 'nflx', 'mcd']\n",
    "pattern = r'(?i)\\b(\\$?' + '|'.join(keywords) + r')\\b'\n",
    "\n",
    "df['title'] = df['title'].astype(str)\n",
    "df['selftext'] = df['selftext'].astype(str)\n",
    "\n",
    "dfs = []\n",
    "for row in tqdm(df.itertuples(), total=len(df)):\n",
    "    title, body, created_utc = row.title, row.selftext, row.created_utc\n",
    "    symbols_in_post = set()\n",
    "\n",
    "    for match in re.finditer(pattern, title + \" \" + body):\n",
    "        symbol = match.group().lstrip(\"$\").lower()\n",
    "        symbols_in_post.add(symbol)\n",
    "\n",
    "    for symbol in symbols_in_post:\n",
    "        index_row = pd.DataFrame({\n",
    "            'id': [row.Index],\n",
    "            'stock_symbol': [symbol],\n",
    "            'created_utc': [created_utc]\n",
    "        })\n",
    "        dfs.append(index_row)\n",
    "\n",
    "stock_index = pd.concat(dfs, ignore_index=True)"
   ]
  },
  {
   "cell_type": "code",
   "execution_count": 7,
   "metadata": {
    "collapsed": false,
    "jupyter": {
     "outputs_hidden": false
    }
   },
   "outputs": [
    {
     "data": {
      "text/html": [
       "<div>\n",
       "<style scoped>\n",
       "    .dataframe tbody tr th:only-of-type {\n",
       "        vertical-align: middle;\n",
       "    }\n",
       "\n",
       "    .dataframe tbody tr th {\n",
       "        vertical-align: top;\n",
       "    }\n",
       "\n",
       "    .dataframe thead th {\n",
       "        text-align: right;\n",
       "    }\n",
       "</style>\n",
       "<table border=\"1\" class=\"dataframe\">\n",
       "  <thead>\n",
       "    <tr style=\"text-align: right;\">\n",
       "      <th></th>\n",
       "      <th>id</th>\n",
       "      <th>stock_symbol</th>\n",
       "      <th>created_utc</th>\n",
       "    </tr>\n",
       "  </thead>\n",
       "  <tbody>\n",
       "    <tr>\n",
       "      <th>0</th>\n",
       "      <td>7nca41</td>\n",
       "      <td>aapl</td>\n",
       "      <td>1514768665</td>\n",
       "    </tr>\n",
       "    <tr>\n",
       "      <th>1</th>\n",
       "      <td>7ncxcn</td>\n",
       "      <td>msft</td>\n",
       "      <td>1514776674</td>\n",
       "    </tr>\n",
       "    <tr>\n",
       "      <th>2</th>\n",
       "      <td>7ndtyy</td>\n",
       "      <td>mcd</td>\n",
       "      <td>1514789593</td>\n",
       "    </tr>\n",
       "    <tr>\n",
       "      <th>3</th>\n",
       "      <td>7ndu9l</td>\n",
       "      <td>mcd</td>\n",
       "      <td>1514789727</td>\n",
       "    </tr>\n",
       "    <tr>\n",
       "      <th>4</th>\n",
       "      <td>7neolz</td>\n",
       "      <td>tsla</td>\n",
       "      <td>1514805270</td>\n",
       "    </tr>\n",
       "  </tbody>\n",
       "</table>\n",
       "</div>"
      ],
      "text/plain": [
       "       id stock_symbol  created_utc\n",
       "0  7nca41         aapl   1514768665\n",
       "1  7ncxcn         msft   1514776674\n",
       "2  7ndtyy          mcd   1514789593\n",
       "3  7ndu9l          mcd   1514789727\n",
       "4  7neolz         tsla   1514805270"
      ]
     },
     "execution_count": 7,
     "metadata": {},
     "output_type": "execute_result"
    }
   ],
   "source": [
    "stock_index.head()"
   ]
  },
  {
   "cell_type": "code",
   "execution_count": 8,
   "metadata": {
    "collapsed": false,
    "jupyter": {
     "outputs_hidden": false
    }
   },
   "outputs": [],
   "source": [
    "stock_index.to_csv('stock_index.csv', index=False)"
   ]
  }
 ],
 "metadata": {
  "environment": {
   "kernel": "python3",
   "name": "common-cpu.m109",
   "type": "gcloud",
   "uri": "gcr.io/deeplearning-platform-release/base-cpu:m109"
  },
  "kernelspec": {
   "display_name": "Python 3",
   "language": "python",
   "name": "python3"
  },
  "language_info": {
   "codemirror_mode": {
    "name": "ipython",
    "version": 3
   },
   "file_extension": ".py",
   "mimetype": "text/x-python",
   "name": "python",
   "nbconvert_exporter": "python",
   "pygments_lexer": "ipython3",
   "version": "3.10.11"
  }
 },
 "nbformat": 4,
 "nbformat_minor": 4
}
