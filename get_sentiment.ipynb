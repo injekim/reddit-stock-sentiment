{
 "cells": [
  {
   "cell_type": "code",
   "execution_count": 1,
   "metadata": {
    "ExecuteTime": {
     "end_time": "2023-07-11T16:39:36.206093Z",
     "start_time": "2023-07-11T16:39:34.400639Z"
    },
    "_cell_guid": "b1076dfc-b9ad-4769-8c92-a6c4dae69d19",
    "_uuid": "8f2839f25d086af736a60e9eeb907d3b93b6e0e5"
   },
   "outputs": [],
   "source": [
    "import pandas as pd\n",
    "import datetime\n",
    "import logging"
   ]
  },
  {
   "cell_type": "code",
   "execution_count": 2,
   "metadata": {},
   "outputs": [],
   "source": [
    "symbol = 'nvda'"
   ]
  },
  {
   "cell_type": "code",
   "execution_count": 3,
   "metadata": {},
   "outputs": [],
   "source": [
    "logging.basicConfig(filename=f'{symbol}_log_file.log', level=logging.INFO)"
   ]
  },
  {
   "cell_type": "code",
   "execution_count": 4,
   "metadata": {
    "ExecuteTime": {
     "end_time": "2023-07-11T16:46:05.131697Z",
     "start_time": "2023-07-11T16:46:03.675276Z"
    }
   },
   "outputs": [
    {
     "data": {
      "text/html": [
       "<div>\n",
       "<style scoped>\n",
       "    .dataframe tbody tr th:only-of-type {\n",
       "        vertical-align: middle;\n",
       "    }\n",
       "\n",
       "    .dataframe tbody tr th {\n",
       "        vertical-align: top;\n",
       "    }\n",
       "\n",
       "    .dataframe thead th {\n",
       "        text-align: right;\n",
       "    }\n",
       "</style>\n",
       "<table border=\"1\" class=\"dataframe\">\n",
       "  <thead>\n",
       "    <tr style=\"text-align: right;\">\n",
       "      <th></th>\n",
       "      <th>id</th>\n",
       "      <th>created_utc</th>\n",
       "      <th>subreddit</th>\n",
       "      <th>author</th>\n",
       "      <th>title</th>\n",
       "      <th>selftext</th>\n",
       "      <th>permalink</th>\n",
       "      <th>url</th>\n",
       "      <th>combined</th>\n",
       "      <th>is_removed</th>\n",
       "      <th>is_deleted</th>\n",
       "    </tr>\n",
       "  </thead>\n",
       "  <tbody>\n",
       "    <tr>\n",
       "      <th>0</th>\n",
       "      <td>7ndtyy</td>\n",
       "      <td>2018-01-01 06:53:13</td>\n",
       "      <td>TIMESINDIAauto</td>\n",
       "      <td>AutoNewsAdmin</td>\n",
       "      <td>[Business] - New year looks grim for McD’s staff</td>\n",
       "      <td>NaN</td>\n",
       "      <td>/r/TIMESINDIAauto/comments/7ndtyy/business_new...</td>\n",
       "      <td>https://timesofindia.indiatimes.com/business/i...</td>\n",
       "      <td>[Business] - New year looks grim for McD’s staff</td>\n",
       "      <td>False</td>\n",
       "      <td>False</td>\n",
       "    </tr>\n",
       "    <tr>\n",
       "      <th>1</th>\n",
       "      <td>7ndu9l</td>\n",
       "      <td>2018-01-01 06:55:27</td>\n",
       "      <td>AutoNewspaper</td>\n",
       "      <td>AutoNewspaperAdmin</td>\n",
       "      <td>[Business] - New year looks grim for McD’s sta...</td>\n",
       "      <td>NaN</td>\n",
       "      <td>/r/AutoNewspaper/comments/7ndu9l/business_new_...</td>\n",
       "      <td>https://timesofindia.indiatimes.com/business/i...</td>\n",
       "      <td>[Business] - New year looks grim for McD’s sta...</td>\n",
       "      <td>False</td>\n",
       "      <td>False</td>\n",
       "    </tr>\n",
       "    <tr>\n",
       "      <th>2</th>\n",
       "      <td>7nfc46</td>\n",
       "      <td>2018-01-01 14:22:18</td>\n",
       "      <td>OnlineBargains</td>\n",
       "      <td>dfslol</td>\n",
       "      <td>[McDonalds] Any size McCafé® Brewed Coffee for...</td>\n",
       "      <td>NaN</td>\n",
       "      <td>/r/OnlineBargains/comments/7nfc46/mcdonalds_an...</td>\n",
       "      <td>http://forums.redflagdeals.com/mcdonalds-any-s...</td>\n",
       "      <td>[McDonalds] Any size McCafé® Brewed Coffee for...</td>\n",
       "      <td>False</td>\n",
       "      <td>False</td>\n",
       "    </tr>\n",
       "    <tr>\n",
       "      <th>3</th>\n",
       "      <td>7ng02z</td>\n",
       "      <td>2018-01-01 16:39:39</td>\n",
       "      <td>superhot</td>\n",
       "      <td>[deleted]</td>\n",
       "      <td>Some suggestions upon playing a bit of MCD</td>\n",
       "      <td>[deleted]</td>\n",
       "      <td>/r/superhot/comments/7ng02z/some_suggestions_u...</td>\n",
       "      <td>https://www.reddit.com/r/superhot/comments/7ng...</td>\n",
       "      <td>Some suggestions upon playing a bit of MCD</td>\n",
       "      <td>False</td>\n",
       "      <td>True</td>\n",
       "    </tr>\n",
       "    <tr>\n",
       "      <th>4</th>\n",
       "      <td>7nghsp</td>\n",
       "      <td>2018-01-01 18:03:39</td>\n",
       "      <td>GameDeals</td>\n",
       "      <td>gamedealsmod</td>\n",
       "      <td>Steam Winter Sale : Day 12</td>\n",
       "      <td>**Steam Winter Sale 2017** - [Day 1](https://r...</td>\n",
       "      <td>/r/GameDeals/comments/7nghsp/steam_winter_sale...</td>\n",
       "      <td>https://www.reddit.com/r/GameDeals/comments/7n...</td>\n",
       "      <td>Steam Winter Sale : Day 12 **Steam Winter Sale...</td>\n",
       "      <td>False</td>\n",
       "      <td>False</td>\n",
       "    </tr>\n",
       "  </tbody>\n",
       "</table>\n",
       "</div>"
      ],
      "text/plain": [
       "       id          created_utc       subreddit              author  \\\n",
       "0  7ndtyy  2018-01-01 06:53:13  TIMESINDIAauto       AutoNewsAdmin   \n",
       "1  7ndu9l  2018-01-01 06:55:27   AutoNewspaper  AutoNewspaperAdmin   \n",
       "2  7nfc46  2018-01-01 14:22:18  OnlineBargains              dfslol   \n",
       "3  7ng02z  2018-01-01 16:39:39        superhot           [deleted]   \n",
       "4  7nghsp  2018-01-01 18:03:39       GameDeals        gamedealsmod   \n",
       "\n",
       "                                               title  \\\n",
       "0   [Business] - New year looks grim for McD’s staff   \n",
       "1  [Business] - New year looks grim for McD’s sta...   \n",
       "2  [McDonalds] Any size McCafé® Brewed Coffee for...   \n",
       "3         Some suggestions upon playing a bit of MCD   \n",
       "4                         Steam Winter Sale : Day 12   \n",
       "\n",
       "                                            selftext  \\\n",
       "0                                                NaN   \n",
       "1                                                NaN   \n",
       "2                                                NaN   \n",
       "3                                          [deleted]   \n",
       "4  **Steam Winter Sale 2017** - [Day 1](https://r...   \n",
       "\n",
       "                                           permalink  \\\n",
       "0  /r/TIMESINDIAauto/comments/7ndtyy/business_new...   \n",
       "1  /r/AutoNewspaper/comments/7ndu9l/business_new_...   \n",
       "2  /r/OnlineBargains/comments/7nfc46/mcdonalds_an...   \n",
       "3  /r/superhot/comments/7ng02z/some_suggestions_u...   \n",
       "4  /r/GameDeals/comments/7nghsp/steam_winter_sale...   \n",
       "\n",
       "                                                 url  \\\n",
       "0  https://timesofindia.indiatimes.com/business/i...   \n",
       "1  https://timesofindia.indiatimes.com/business/i...   \n",
       "2  http://forums.redflagdeals.com/mcdonalds-any-s...   \n",
       "3  https://www.reddit.com/r/superhot/comments/7ng...   \n",
       "4  https://www.reddit.com/r/GameDeals/comments/7n...   \n",
       "\n",
       "                                            combined  is_removed  is_deleted  \n",
       "0  [Business] - New year looks grim for McD’s staff        False       False  \n",
       "1  [Business] - New year looks grim for McD’s sta...       False       False  \n",
       "2  [McDonalds] Any size McCafé® Brewed Coffee for...       False       False  \n",
       "3        Some suggestions upon playing a bit of MCD        False        True  \n",
       "4  Steam Winter Sale : Day 12 **Steam Winter Sale...       False       False  "
      ]
     },
     "execution_count": 4,
     "metadata": {},
     "output_type": "execute_result"
    }
   ],
   "source": [
    "df = pd.read_csv(f'prepared/{symbol}.csv').drop(['stock_symbol'], axis=1)\n",
    "df.head()"
   ]
  },
  {
   "cell_type": "code",
   "execution_count": 5,
   "metadata": {},
   "outputs": [],
   "source": [
    "from tqdm import tqdm\n",
    "tqdm.pandas()"
   ]
  },
  {
   "cell_type": "markdown",
   "metadata": {},
   "source": [
    "## Get sentiment using vader"
   ]
  },
  {
   "cell_type": "code",
   "execution_count": 6,
   "metadata": {
    "ExecuteTime": {
     "end_time": "2023-07-11T16:41:34.770974Z",
     "start_time": "2023-07-11T16:41:29.035269Z"
    }
   },
   "outputs": [],
   "source": [
    "import nltk\n",
    "from nltk.sentiment.vader import SentimentIntensityAnalyzer"
   ]
  },
  {
   "cell_type": "code",
   "execution_count": 7,
   "metadata": {
    "ExecuteTime": {
     "end_time": "2023-07-11T16:42:19.362768Z",
     "start_time": "2023-07-11T16:42:19.023219Z"
    },
    "collapsed": false,
    "jupyter": {
     "outputs_hidden": false
    }
   },
   "outputs": [
    {
     "name": "stderr",
     "output_type": "stream",
     "text": [
      "[nltk_data] Downloading package vader_lexicon to\n",
      "[nltk_data]     /home/jupyter/nltk_data...\n",
      "[nltk_data]   Package vader_lexicon is already up-to-date!\n"
     ]
    },
    {
     "data": {
      "text/plain": [
       "True"
      ]
     },
     "execution_count": 7,
     "metadata": {},
     "output_type": "execute_result"
    }
   ],
   "source": [
    "nltk.download('vader_lexicon')"
   ]
  },
  {
   "cell_type": "code",
   "execution_count": 8,
   "metadata": {
    "ExecuteTime": {
     "end_time": "2023-07-11T16:42:21.470707Z",
     "start_time": "2023-07-11T16:42:21.465718Z"
    },
    "collapsed": false,
    "jupyter": {
     "outputs_hidden": false
    }
   },
   "outputs": [],
   "source": [
    "counter = 0\n",
    "total = len(df['combined'])\n",
    "analyzer = SentimentIntensityAnalyzer()\n",
    "\n",
    "def get_sentiment(text):\n",
    "    global counter\n",
    "    \n",
    "    counter += 1\n",
    "    if counter % 1000 == 0:\n",
    "        timestamp = datetime.datetime.now().strftime('%Y-%m-%d %H:%M:%S')\n",
    "        logging.info(f\"vader:{timestamp}: {counter}/{total}, {counter/total*100}%\")\n",
    "    \n",
    "    score = analyzer.polarity_scores(text)\n",
    "    return score['compound']"
   ]
  },
  {
   "cell_type": "code",
   "execution_count": 9,
   "metadata": {
    "ExecuteTime": {
     "end_time": "2023-07-11T16:53:04.714336Z",
     "start_time": "2023-07-11T16:47:01.451826Z"
    },
    "collapsed": false,
    "jupyter": {
     "outputs_hidden": false
    }
   },
   "outputs": [
    {
     "name": "stderr",
     "output_type": "stream",
     "text": [
      "100%|██████████| 19721/19721 [00:51<00:00, 382.59it/s]\n"
     ]
    }
   ],
   "source": [
    "# df['sentiment_vader'] = df['combined'].apply(get_sentiment)\n",
    "df['polarity_vader'] = df['combined'].progress_apply(get_sentiment)"
   ]
  },
  {
   "cell_type": "markdown",
   "metadata": {},
   "source": [
    "## Export file"
   ]
  },
  {
   "cell_type": "code",
   "execution_count": 10,
   "metadata": {},
   "outputs": [],
   "source": [
    "df.to_csv(f'sentiment/{symbol}_sentiment.csv', index=None)"
   ]
  },
  {
   "cell_type": "markdown",
   "metadata": {},
   "source": [
    "## Get sentiment using pattern"
   ]
  },
  {
   "cell_type": "code",
   "execution_count": 11,
   "metadata": {
    "ExecuteTime": {
     "end_time": "2023-07-11T16:58:28.236868Z",
     "start_time": "2023-07-11T16:58:00.776687Z"
    },
    "collapsed": false,
    "jupyter": {
     "outputs_hidden": false
    }
   },
   "outputs": [],
   "source": [
    "from pattern.en import sentiment"
   ]
  },
  {
   "cell_type": "code",
   "execution_count": 12,
   "metadata": {
    "ExecuteTime": {
     "end_time": "2023-07-11T16:58:59.165444Z",
     "start_time": "2023-07-11T16:58:59.162337Z"
    },
    "collapsed": false,
    "jupyter": {
     "outputs_hidden": false
    }
   },
   "outputs": [],
   "source": [
    "counter = 0\n",
    "\n",
    "def get_sentiment(text):\n",
    "    global counter\n",
    "    \n",
    "    counter += 1\n",
    "    if counter % 1000 == 0:\n",
    "        timestamp = datetime.datetime.now().strftime('%Y-%m-%d %H:%M:%S')\n",
    "        logging.info(f\"pattern:{timestamp}: {counter}/{total}, {counter/total*100}%\")\n",
    "    \n",
    "    return sentiment(text)"
   ]
  },
  {
   "cell_type": "code",
   "execution_count": 13,
   "metadata": {
    "ExecuteTime": {
     "start_time": "2023-07-11T17:20:24.416809Z"
    },
    "collapsed": false,
    "is_executing": true,
    "jupyter": {
     "outputs_hidden": false
    }
   },
   "outputs": [
    {
     "name": "stderr",
     "output_type": "stream",
     "text": [
      "100%|██████████| 19721/19721 [00:51<00:00, 381.57it/s]\n"
     ]
    }
   ],
   "source": [
    "df['pattern_temp'] = df['combined'].progress_apply(get_sentiment)"
   ]
  },
  {
   "cell_type": "code",
   "execution_count": 14,
   "metadata": {},
   "outputs": [],
   "source": [
    "df[['polarity_pattern', 'subjectivity_pattern']] = df['pattern_temp'].apply(pd.Series)\n",
    "df = df.drop(['pattern_temp'], axis=1)"
   ]
  },
  {
   "cell_type": "markdown",
   "metadata": {},
   "source": [
    "## Export file"
   ]
  },
  {
   "cell_type": "code",
   "execution_count": 15,
   "metadata": {},
   "outputs": [],
   "source": [
    "df.to_csv(f'sentiment/{symbol}_sentiment.csv', index=None)"
   ]
  },
  {
   "cell_type": "markdown",
   "metadata": {},
   "source": [
    "## Get sentiment using BERT"
   ]
  },
  {
   "cell_type": "code",
   "execution_count": 16,
   "metadata": {
    "ExecuteTime": {
     "end_time": "2023-07-11T16:58:28.236868Z",
     "start_time": "2023-07-11T16:58:00.776687Z"
    },
    "collapsed": false,
    "jupyter": {
     "outputs_hidden": false
    }
   },
   "outputs": [
    {
     "name": "stderr",
     "output_type": "stream",
     "text": [
      "2023-08-05 13:38:20.739248: I tensorflow/core/util/port.cc:110] oneDNN custom operations are on. You may see slightly different numerical results due to floating-point round-off errors from different computation orders. To turn them off, set the environment variable `TF_ENABLE_ONEDNN_OPTS=0`.\n",
      "2023-08-05 13:38:20.788808: I tensorflow/core/platform/cpu_feature_guard.cc:182] This TensorFlow binary is optimized to use available CPU instructions in performance-critical operations.\n",
      "To enable the following instructions: AVX2 AVX512F AVX512_VNNI FMA, in other operations, rebuild TensorFlow with the appropriate compiler flags.\n",
      "2023-08-05 13:38:21.843472: W tensorflow/compiler/tf2tensorrt/utils/py_utils.cc:38] TF-TRT Warning: Could not find TensorRT\n"
     ]
    }
   ],
   "source": [
    "from transformers import pipeline, AutoTokenizer\n",
    "nlp = pipeline('sentiment-analysis', model='nlptown/bert-base-multilingual-uncased-sentiment')"
   ]
  },
  {
   "cell_type": "code",
   "execution_count": 17,
   "metadata": {
    "ExecuteTime": {
     "end_time": "2023-07-11T16:58:59.165444Z",
     "start_time": "2023-07-11T16:58:59.162337Z"
    },
    "collapsed": false,
    "jupyter": {
     "outputs_hidden": false
    }
   },
   "outputs": [],
   "source": [
    "counter = 0\n",
    "\n",
    "def get_sentiment(text):    \n",
    "    global counter\n",
    "    \n",
    "    counter += 1\n",
    "    if counter % 1000 == 0:\n",
    "        timestamp = datetime.datetime.now().strftime('%Y-%m-%d %H:%M:%S')\n",
    "        logging.info(f\"bert:{timestamp}: {counter}/{total}, {counter/total*100}%\")\n",
    "    \n",
    "    if len(text) > 512:\n",
    "        result = nlp(text[:512])\n",
    "    else:\n",
    "        result = nlp(text[:512])\n",
    "    \n",
    "    return int(result[0]['label'][:1]) - 3"
   ]
  },
  {
   "cell_type": "code",
   "execution_count": 18,
   "metadata": {
    "ExecuteTime": {
     "start_time": "2023-07-11T17:20:24.416809Z"
    },
    "collapsed": false,
    "is_executing": true,
    "jupyter": {
     "outputs_hidden": false
    }
   },
   "outputs": [
    {
     "name": "stderr",
     "output_type": "stream",
     "text": [
      "100%|██████████| 19721/19721 [23:47<00:00, 13.82it/s]\n"
     ]
    }
   ],
   "source": [
    "df['polarity_bert'] = df['combined'].progress_apply(get_sentiment)"
   ]
  },
  {
   "cell_type": "markdown",
   "metadata": {},
   "source": [
    "## Export file"
   ]
  },
  {
   "cell_type": "code",
   "execution_count": 19,
   "metadata": {},
   "outputs": [],
   "source": [
    "df.to_csv(f'sentiment/{symbol}_sentiment.csv', index=None)"
   ]
  },
  {
   "cell_type": "markdown",
   "metadata": {},
   "source": [
    "## Get sentiment using textblob"
   ]
  },
  {
   "cell_type": "code",
   "execution_count": 20,
   "metadata": {
    "ExecuteTime": {
     "end_time": "2023-07-11T16:58:28.236868Z",
     "start_time": "2023-07-11T16:58:00.776687Z"
    },
    "collapsed": false,
    "jupyter": {
     "outputs_hidden": false
    }
   },
   "outputs": [],
   "source": [
    "# from textblob import TextBlob"
   ]
  },
  {
   "cell_type": "code",
   "execution_count": 21,
   "metadata": {
    "ExecuteTime": {
     "end_time": "2023-07-11T16:58:59.165444Z",
     "start_time": "2023-07-11T16:58:59.162337Z"
    },
    "collapsed": false,
    "jupyter": {
     "outputs_hidden": false
    }
   },
   "outputs": [],
   "source": [
    "# counter = 0\n",
    "\n",
    "# def get_sentiment(text):\n",
    "#     global counter\n",
    "    \n",
    "#     counter += 1\n",
    "#     if counter % 1000 == 0:\n",
    "#         timestamp = datetime.datetime.now().strftime('%Y-%m-%d %H:%M:%S')\n",
    "#         logging.info(f\"textblob:{timestamp}: {counter}/{total}, {counter/total*100}%\")\n",
    "    \n",
    "#     return TextBlob(text).sentiment"
   ]
  },
  {
   "cell_type": "code",
   "execution_count": 22,
   "metadata": {
    "ExecuteTime": {
     "start_time": "2023-07-11T17:20:24.416809Z"
    },
    "collapsed": false,
    "is_executing": true,
    "jupyter": {
     "outputs_hidden": false
    }
   },
   "outputs": [],
   "source": [
    "# df['textblob_temp'] = df['combined'].progress_apply(get_sentiment)"
   ]
  },
  {
   "cell_type": "code",
   "execution_count": 23,
   "metadata": {},
   "outputs": [],
   "source": [
    "# df[['polarity_textblob', 'subjectivity_textblob']] = df['textblob_temp'].apply(pd.Series)\n",
    "# df = df.drop(['textblob_temp'], axis=1)"
   ]
  },
  {
   "cell_type": "markdown",
   "metadata": {},
   "source": [
    "## Export file"
   ]
  },
  {
   "cell_type": "code",
   "execution_count": 24,
   "metadata": {},
   "outputs": [],
   "source": [
    "# df.to_csv(f'sentiment/{symbol}_sentiment.csv', index=None)"
   ]
  },
  {
   "cell_type": "markdown",
   "metadata": {},
   "source": [
    "## Get sentiment using flair"
   ]
  },
  {
   "cell_type": "code",
   "execution_count": 25,
   "metadata": {
    "ExecuteTime": {
     "end_time": "2023-07-11T16:58:28.236868Z",
     "start_time": "2023-07-11T16:58:00.776687Z"
    },
    "collapsed": false,
    "jupyter": {
     "outputs_hidden": false
    }
   },
   "outputs": [],
   "source": [
    "# from flair.data import Sentence\n",
    "# from flair.nn import Classifier"
   ]
  },
  {
   "cell_type": "code",
   "execution_count": 26,
   "metadata": {
    "ExecuteTime": {
     "end_time": "2023-07-11T16:58:59.165444Z",
     "start_time": "2023-07-11T16:58:59.162337Z"
    },
    "collapsed": false,
    "jupyter": {
     "outputs_hidden": false
    }
   },
   "outputs": [],
   "source": [
    "# counter = 0\n",
    "\n",
    "# def get_sentiment(text):\n",
    "#     global counter\n",
    "#     sentence = Sentence(text)\n",
    "#     tagger = Classifier.load('sentiment-fast')\n",
    "#     tagger.predict(sentence)\n",
    "\n",
    "#     label = sentence.labels[0].value\n",
    "#     score = sentence.labels[0].score\n",
    "    \n",
    "#     counter += 1\n",
    "#     if counter % 1000 == 0:\n",
    "#         timestamp = datetime.datetime.now().strftime('%Y-%m-%d %H:%M:%S')\n",
    "#         logging.info(f\"flair:{timestamp}: {counter}/{total}, {counter/total*100}%\")\n",
    "    \n",
    "#     return score if label == 'POSITIVE' else -score"
   ]
  },
  {
   "cell_type": "code",
   "execution_count": 27,
   "metadata": {
    "ExecuteTime": {
     "start_time": "2023-07-11T17:20:24.416809Z"
    },
    "collapsed": false,
    "is_executing": true,
    "jupyter": {
     "outputs_hidden": false
    }
   },
   "outputs": [],
   "source": [
    "# df['sentiment_flair'] = df['combined'].apply(get_sentiment)\n",
    "# df['sentiment_flair'] = df['combined'].progress_apply(get_sentiment)"
   ]
  },
  {
   "cell_type": "markdown",
   "metadata": {},
   "source": [
    "## Export file"
   ]
  },
  {
   "cell_type": "code",
   "execution_count": 28,
   "metadata": {},
   "outputs": [],
   "source": [
    "# df.to_csv(f'sentiment/{symbol}_sentiment.csv', index=None)"
   ]
  }
 ],
 "metadata": {
  "environment": {
   "kernel": "python3",
   "name": "common-cpu.m109",
   "type": "gcloud",
   "uri": "gcr.io/deeplearning-platform-release/base-cpu:m109"
  },
  "kernelspec": {
   "display_name": "Python 3",
   "language": "python",
   "name": "python3"
  },
  "language_info": {
   "codemirror_mode": {
    "name": "ipython",
    "version": 3
   },
   "file_extension": ".py",
   "mimetype": "text/x-python",
   "name": "python",
   "nbconvert_exporter": "python",
   "pygments_lexer": "ipython3",
   "version": "3.10.11"
  }
 },
 "nbformat": 4,
 "nbformat_minor": 4
}
