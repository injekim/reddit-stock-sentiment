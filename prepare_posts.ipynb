{
 "cells": [
  {
   "cell_type": "code",
   "execution_count": 1,
   "id": "6d43639a-e85a-4e27-8138-bc06aba1d315",
   "metadata": {},
   "outputs": [],
   "source": [
    "import pandas as pd\n",
    "import numpy as np"
   ]
  },
  {
   "cell_type": "code",
   "execution_count": 2,
   "id": "3eee6dd2-fa38-4c93-9260-7c69451ad648",
   "metadata": {},
   "outputs": [],
   "source": [
    "# Import submissions dataset\n",
    "df = pd.read_csv('posts.csv')"
   ]
  },
  {
   "cell_type": "code",
   "execution_count": 3,
   "id": "0ae3113f-cbe0-4a50-b89a-6e007052586d",
   "metadata": {},
   "outputs": [],
   "source": [
    "# import keyword index dataset\n",
    "index_df = pd.read_csv('stock_index.csv')"
   ]
  },
  {
   "cell_type": "code",
   "execution_count": 4,
   "id": "c1ff3aab-2584-4c3e-8cb9-e3d6ca9cb1e9",
   "metadata": {},
   "outputs": [],
   "source": [
    "# Combine two datasets\n",
    "merged_df = df.merge(index_df, on='id')\n",
    "merged_df = merged_df.drop(['created_utc_y'], axis=1)\n",
    "merged_df = merged_df.rename(columns={\"created_utc_x\": \"created_utc\"})\n",
    "merged_df['created_utc'] = pd.to_datetime(merged_df['created_utc'], unit='s')\n",
    "# merged_df.head()"
   ]
  },
  {
   "cell_type": "code",
   "execution_count": 5,
   "id": "f57ee7a3-1b8a-4dc2-88fb-be6287a0bd7c",
   "metadata": {},
   "outputs": [],
   "source": [
    "# Replace NaNs with ''\n",
    "merged_df['selftext'] = merged_df['selftext'].fillna('')\n",
    "merged_df['title'] = merged_df['title'].fillna('')"
   ]
  },
  {
   "cell_type": "code",
   "execution_count": 6,
   "id": "6e710ad9-3977-4c91-b1ee-d27623f1a443",
   "metadata": {},
   "outputs": [
    {
     "data": {
      "text/html": [
       "<div>\n",
       "<style scoped>\n",
       "    .dataframe tbody tr th:only-of-type {\n",
       "        vertical-align: middle;\n",
       "    }\n",
       "\n",
       "    .dataframe tbody tr th {\n",
       "        vertical-align: top;\n",
       "    }\n",
       "\n",
       "    .dataframe thead th {\n",
       "        text-align: right;\n",
       "    }\n",
       "</style>\n",
       "<table border=\"1\" class=\"dataframe\">\n",
       "  <thead>\n",
       "    <tr style=\"text-align: right;\">\n",
       "      <th></th>\n",
       "      <th>selftext</th>\n",
       "    </tr>\n",
       "  </thead>\n",
       "  <tbody>\n",
       "    <tr>\n",
       "      <th></th>\n",
       "      <td>235958</td>\n",
       "    </tr>\n",
       "    <tr>\n",
       "      <th>[removed]</th>\n",
       "      <td>161398</td>\n",
       "    </tr>\n",
       "    <tr>\n",
       "      <th>[deleted]</th>\n",
       "      <td>85446</td>\n",
       "    </tr>\n",
       "    <tr>\n",
       "      <th>**Our discord is now live!!! Come on in and start the discussion!!**\\n\\n[**https://discord.gg/R93VkHy5Af**](https://discord.gg/R93VkHy5Af)\\n\\n**Check out** [**https://www.youtube.com/channel/UCpOrgfKMBl3w\\\\_EdLc\\\\_pUCqA**](https://www.youtube.com/channel/UCpOrgfKMBl3w_EdLc_pUCqA) **if you want some entertaining vids about the market. Yes... GME and AMC too, along with other updates!!**</th>\n",
       "      <td>582</td>\n",
       "    </tr>\n",
       "    <tr>\n",
       "      <th>[🐧](https://i.redd.it/9oohuwgcjdh71.jpg) **Bull Thesis Series (start here):** [III: To Break the Wheel](https://www.reddit.com/r/carvstock/comments/omzyhh/bull_thesis_part_iii_to_break_the_wheel/) | [II: March of the Penguins](https://www.reddit.com/r/carvstock/comments/ohxgh0/the_carv_bull_thesis_part_ii_march_of_the_penguins/?utm_source=share&amp;amp;utm_medium=ios_app&amp;amp;utm_name=iossmf) | [I: The Inferno](https://www.reddit.com/r/carvstock/comments/oef7u2/carv_a_4th_of_july_bbq_the_bull_thesis_primer_for/)\\n\\n**Community DD:** [Turn of the Tide](https://www.reddit.com/r/carvstock/comments/p258o3/i_come_back_to_you_now_at_the_turn_of_the_tide/) | [Strength in Numbers](https://www.reddit.com/r/carvstock/comments/omhh5c/as_our_numbers_grow_so_does_our_strength/?utm_source=share&amp;amp;utm_medium=web2x&amp;amp;context=3) | [Ortex and Float](https://www.reddit.com/r/carvstock/comments/olh21d/ortexs_response_for_carvs_ff_ridiculous_changes/?utm_source=share&amp;amp;utm_medium=web2x&amp;amp;context=3) | [Controlling Stake](https://www.reddit.com/r/carvstock/comments/ojxaoo/uh_guys_i_think_we_accidentally_bought_a_bank/?utm_source=share&amp;amp;utm_medium=ios_app&amp;amp;utm_name=iossmf) | [CARV, GME, and margin](https://www.reddit.com/r/carvstock/comments/oj2n4k/i_am_more_confident_in_this_play_than_i_have_been/?utm_source=share&amp;amp;utm_medium=ios_app&amp;amp;utm_name=iossmf) | [Hedgehog](https://www.reddit.com/r/carvstock/comments/ohfo43/marketwatch_carver_bancorps_stock_rockets_again/?utm_source=share&amp;amp;utm_medium=ios_app&amp;amp;utm_name=iossmf) | [A Price Target](https://www.reddit.com/r/carvstock/comments/oaku38/ok_fine_a_price_target_for_carv/)\\n\\n**TA:** [8/10](https://www.reddit.com/r/carvstock/comments/p1ohge/a_very_very_bullish_ta_pt_2_update/) | [7/25](https://www.reddit.com/r/carvstock/comments/oqjy6x/a_very_very_bullish_ta/?utm_source=share&amp;amp;utm_medium=ios_app&amp;amp;utm_name=iossmf) | [7/16](https://www.reddit.com/r/carvstock/comments/ol9zaq/ice_cold_ta/)\\n\\n**Recaps:** [7/15](https://www.reddit.com/r/carvstock/comments/okm6ge/love_and_power/) | [7/12](https://www.reddit.com/r/carvstock/comments/oizxwb/raise_your_hand_if_this_was_your_first_bloodying/?utm_source=share&amp;amp;utm_medium=ios_app&amp;amp;utm_name=iossmf) | [7/8](https://www.reddit.com/r/carvstock/comments/ogiqrc/what_a_day_lets_regroup/?utm_source=share&amp;amp;utm_medium=ios_app&amp;amp;utm_name=iossmf) | [Old Lounge](https://www.reddit.com/r/carvstock/comments/oa02ht/rcarvstock_lounge/?utm_source=share&amp;amp;utm_medium=ios_app&amp;amp;utm_name=iossmf)\\n\\n**News/Filings:** [NASDAQ Halts](https://www.nasdaqtrader.com/trader.aspx?id=tradehalts) | [SEC Filings](https://sec.report/Ticker/CARV) | [Google Newsfeed](https://news.google.com/search?q=Carver%20bank&amp;amp;hl=en-US&amp;amp;gl=US&amp;amp;ceid=US%3Aen) | [Insidertracking](https://m.insidertracking.com/node/7?menu_tickersearch=CARV+%7C%7C+Carver+Bancorp)\\n\\n**Short Interest:** [iBorrowDesk](https://iborrowdesk.com/report/CARV) | [Fintel](https://fintel.io/ss/us/carv) | [Shortablestocks](https://www.shortablestocks.com/?CARV) | [NSR](https://nakedshortreport.com/company/carv) | [Short Volumes](http://shortvolumes.com/?t=carv) | [Historical Shorts](http://www.shortstockvolume.com/Chart/carv/) | [SEC FTDs](https://sec.report/fails.php?tc=carv) | [Threshold List](http://www.nasdaqtrader.com/trader.aspx?id=regshothreshold) | [SSR List](https://www.nasdaqtrader.com/trader.aspx?id=shortsalecircuitbreaker) | [Ortex (subscription)](https://www.ortex.com/login?next=/symbol/Nasdaq/CARV/alpha) | [S3 Shortsight (subscription)](https://screener.shortsight.com/login)\\n\\n**Social/Trends:** [Twitter](https://mobile.twitter.com/search?q=%24CARV&amp;amp;src=typed_query&amp;amp;f=live) | [ST](https://stocktwits.com/symbol/CARV) | [Discord](https://discord.com/invite/mz9AmJ2M) | [Quiverquant](https://www.quiverquant.com/sources/wallstreetbets/Carv?) | [Hedgesocial](https://hedgesocial.com/stock/CARV) | [Topstonks](https://topstonks.com/stocks/CARV?st_carv)\\n\\n**General Stats:** [Finviz](https://finviz.com/quote.ashx?t=CARV) | [Tradingview](https://www.tradingview.com/symbols/NASDAQ-CARV/ideas/?sort=recent) | [Yahoo](https://finance.yahoo.com/quote/CARV/) | [ycharts](https://ycharts.com/companies/CARV) | [Pre/Post-Market Trades (NASDAQ)](https://www.nasdaq.com/market-activity/stocks/carv/pre-market) | [Berlin](https://www.boerse-berlin.com/index.php/Shares?isin=US1468756044) | [Chameleon](https://marketchameleon.com/Overview/CARV/Summary/)</th>\n",
       "      <td>497</td>\n",
       "    </tr>\n",
       "  </tbody>\n",
       "</table>\n",
       "</div>"
      ],
      "text/plain": [
       "                                                    selftext\n",
       "                                                      235958\n",
       "[removed]                                             161398\n",
       "[deleted]                                              85446\n",
       "**Our discord is now live!!! Come on in and sta...       582\n",
       " [🐧](https://i.redd.it/9oohuwgcjdh71.jpg) **Bul...       497"
      ]
     },
     "execution_count": 6,
     "metadata": {},
     "output_type": "execute_result"
    }
   ],
   "source": [
    "pd.DataFrame(merged_df['selftext'].value_counts()).head(5)"
   ]
  },
  {
   "cell_type": "code",
   "execution_count": 7,
   "id": "b3c05b71-6529-42bc-8137-00796714ccb5",
   "metadata": {},
   "outputs": [
    {
     "data": {
      "text/html": [
       "<div>\n",
       "<style scoped>\n",
       "    .dataframe tbody tr th:only-of-type {\n",
       "        vertical-align: middle;\n",
       "    }\n",
       "\n",
       "    .dataframe tbody tr th {\n",
       "        vertical-align: top;\n",
       "    }\n",
       "\n",
       "    .dataframe thead th {\n",
       "        text-align: right;\n",
       "    }\n",
       "</style>\n",
       "<table border=\"1\" class=\"dataframe\">\n",
       "  <thead>\n",
       "    <tr style=\"text-align: right;\">\n",
       "      <th></th>\n",
       "      <th>title</th>\n",
       "    </tr>\n",
       "  </thead>\n",
       "  <tbody>\n",
       "    <tr>\n",
       "      <th>GME</th>\n",
       "      <td>2947</td>\n",
       "    </tr>\n",
       "    <tr>\n",
       "      <th>GME Thread</th>\n",
       "      <td>669</td>\n",
       "    </tr>\n",
       "    <tr>\n",
       "      <th>Daily Discussion GME Only</th>\n",
       "      <td>660</td>\n",
       "    </tr>\n",
       "    <tr>\n",
       "      <th>Today's most mentioned tickers</th>\n",
       "      <td>657</td>\n",
       "    </tr>\n",
       "    <tr>\n",
       "      <th>Gme</th>\n",
       "      <td>638</td>\n",
       "    </tr>\n",
       "  </tbody>\n",
       "</table>\n",
       "</div>"
      ],
      "text/plain": [
       "                                title\n",
       "GME                              2947\n",
       "GME Thread                        669\n",
       "Daily Discussion GME Only         660\n",
       "Today's most mentioned tickers    657\n",
       "Gme                               638"
      ]
     },
     "execution_count": 7,
     "metadata": {},
     "output_type": "execute_result"
    }
   ],
   "source": [
    "pd.DataFrame(merged_df['title'].value_counts()).head(5)"
   ]
  },
  {
   "cell_type": "code",
   "execution_count": 8,
   "id": "1420e2ac-8749-4e5e-91c8-975199260aef",
   "metadata": {},
   "outputs": [
    {
     "data": {
      "text/html": [
       "<div>\n",
       "<style scoped>\n",
       "    .dataframe tbody tr th:only-of-type {\n",
       "        vertical-align: middle;\n",
       "    }\n",
       "\n",
       "    .dataframe tbody tr th {\n",
       "        vertical-align: top;\n",
       "    }\n",
       "\n",
       "    .dataframe thead th {\n",
       "        text-align: right;\n",
       "    }\n",
       "</style>\n",
       "<table border=\"1\" class=\"dataframe\">\n",
       "  <thead>\n",
       "    <tr style=\"text-align: right;\">\n",
       "      <th></th>\n",
       "      <th>selftext_edit</th>\n",
       "    </tr>\n",
       "  </thead>\n",
       "  <tbody>\n",
       "    <tr>\n",
       "      <th></th>\n",
       "      <td>482802</td>\n",
       "    </tr>\n",
       "    <tr>\n",
       "      <th>**Our discord is now live!!! Come on in and start the discussion!!**\\n\\n[**https://discord.gg/R93VkHy5Af**](https://discord.gg/R93VkHy5Af)\\n\\n**Check out** [**https://www.youtube.com/channel/UCpOrgfKMBl3w\\\\_EdLc\\\\_pUCqA**](https://www.youtube.com/channel/UCpOrgfKMBl3w_EdLc_pUCqA) **if you want some entertaining vids about the market. Yes... GME and AMC too, along with other updates!!**</th>\n",
       "      <td>582</td>\n",
       "    </tr>\n",
       "    <tr>\n",
       "      <th>[🐧](https://i.redd.it/9oohuwgcjdh71.jpg) **Bull Thesis Series (start here):** [III: To Break the Wheel](https://www.reddit.com/r/carvstock/comments/omzyhh/bull_thesis_part_iii_to_break_the_wheel/) | [II: March of the Penguins](https://www.reddit.com/r/carvstock/comments/ohxgh0/the_carv_bull_thesis_part_ii_march_of_the_penguins/?utm_source=share&amp;amp;utm_medium=ios_app&amp;amp;utm_name=iossmf) | [I: The Inferno](https://www.reddit.com/r/carvstock/comments/oef7u2/carv_a_4th_of_july_bbq_the_bull_thesis_primer_for/)\\n\\n**Community DD:** [Turn of the Tide](https://www.reddit.com/r/carvstock/comments/p258o3/i_come_back_to_you_now_at_the_turn_of_the_tide/) | [Strength in Numbers](https://www.reddit.com/r/carvstock/comments/omhh5c/as_our_numbers_grow_so_does_our_strength/?utm_source=share&amp;amp;utm_medium=web2x&amp;amp;context=3) | [Ortex and Float](https://www.reddit.com/r/carvstock/comments/olh21d/ortexs_response_for_carvs_ff_ridiculous_changes/?utm_source=share&amp;amp;utm_medium=web2x&amp;amp;context=3) | [Controlling Stake](https://www.reddit.com/r/carvstock/comments/ojxaoo/uh_guys_i_think_we_accidentally_bought_a_bank/?utm_source=share&amp;amp;utm_medium=ios_app&amp;amp;utm_name=iossmf) | [CARV, GME, and margin](https://www.reddit.com/r/carvstock/comments/oj2n4k/i_am_more_confident_in_this_play_than_i_have_been/?utm_source=share&amp;amp;utm_medium=ios_app&amp;amp;utm_name=iossmf) | [Hedgehog](https://www.reddit.com/r/carvstock/comments/ohfo43/marketwatch_carver_bancorps_stock_rockets_again/?utm_source=share&amp;amp;utm_medium=ios_app&amp;amp;utm_name=iossmf) | [A Price Target](https://www.reddit.com/r/carvstock/comments/oaku38/ok_fine_a_price_target_for_carv/)\\n\\n**TA:** [8/10](https://www.reddit.com/r/carvstock/comments/p1ohge/a_very_very_bullish_ta_pt_2_update/) | [7/25](https://www.reddit.com/r/carvstock/comments/oqjy6x/a_very_very_bullish_ta/?utm_source=share&amp;amp;utm_medium=ios_app&amp;amp;utm_name=iossmf) | [7/16](https://www.reddit.com/r/carvstock/comments/ol9zaq/ice_cold_ta/)\\n\\n**Recaps:** [7/15](https://www.reddit.com/r/carvstock/comments/okm6ge/love_and_power/) | [7/12](https://www.reddit.com/r/carvstock/comments/oizxwb/raise_your_hand_if_this_was_your_first_bloodying/?utm_source=share&amp;amp;utm_medium=ios_app&amp;amp;utm_name=iossmf) | [7/8](https://www.reddit.com/r/carvstock/comments/ogiqrc/what_a_day_lets_regroup/?utm_source=share&amp;amp;utm_medium=ios_app&amp;amp;utm_name=iossmf) | [Old Lounge](https://www.reddit.com/r/carvstock/comments/oa02ht/rcarvstock_lounge/?utm_source=share&amp;amp;utm_medium=ios_app&amp;amp;utm_name=iossmf)\\n\\n**News/Filings:** [NASDAQ Halts](https://www.nasdaqtrader.com/trader.aspx?id=tradehalts) | [SEC Filings](https://sec.report/Ticker/CARV) | [Google Newsfeed](https://news.google.com/search?q=Carver%20bank&amp;amp;hl=en-US&amp;amp;gl=US&amp;amp;ceid=US%3Aen) | [Insidertracking](https://m.insidertracking.com/node/7?menu_tickersearch=CARV+%7C%7C+Carver+Bancorp)\\n\\n**Short Interest:** [iBorrowDesk](https://iborrowdesk.com/report/CARV) | [Fintel](https://fintel.io/ss/us/carv) | [Shortablestocks](https://www.shortablestocks.com/?CARV) | [NSR](https://nakedshortreport.com/company/carv) | [Short Volumes](http://shortvolumes.com/?t=carv) | [Historical Shorts](http://www.shortstockvolume.com/Chart/carv/) | [SEC FTDs](https://sec.report/fails.php?tc=carv) | [Threshold List](http://www.nasdaqtrader.com/trader.aspx?id=regshothreshold) | [SSR List](https://www.nasdaqtrader.com/trader.aspx?id=shortsalecircuitbreaker) | [Ortex (subscription)](https://www.ortex.com/login?next=/symbol/Nasdaq/CARV/alpha) | [S3 Shortsight (subscription)](https://screener.shortsight.com/login)\\n\\n**Social/Trends:** [Twitter](https://mobile.twitter.com/search?q=%24CARV&amp;amp;src=typed_query&amp;amp;f=live) | [ST](https://stocktwits.com/symbol/CARV) | [Discord](https://discord.com/invite/mz9AmJ2M) | [Quiverquant](https://www.quiverquant.com/sources/wallstreetbets/Carv?) | [Hedgesocial](https://hedgesocial.com/stock/CARV) | [Topstonks](https://topstonks.com/stocks/CARV?st_carv)\\n\\n**General Stats:** [Finviz](https://finviz.com/quote.ashx?t=CARV) | [Tradingview](https://www.tradingview.com/symbols/NASDAQ-CARV/ideas/?sort=recent) | [Yahoo](https://finance.yahoo.com/quote/CARV/) | [ycharts](https://ycharts.com/companies/CARV) | [Pre/Post-Market Trades (NASDAQ)](https://www.nasdaq.com/market-activity/stocks/carv/pre-market) | [Berlin](https://www.boerse-berlin.com/index.php/Shares?isin=US1468756044) | [Chameleon](https://marketchameleon.com/Overview/CARV/Summary/)</th>\n",
       "      <td>497</td>\n",
       "    </tr>\n",
       "  </tbody>\n",
       "</table>\n",
       "</div>"
      ],
      "text/plain": [
       "                                                    selftext_edit\n",
       "                                                           482802\n",
       "**Our discord is now live!!! Come on in and sta...            582\n",
       " [🐧](https://i.redd.it/9oohuwgcjdh71.jpg) **Bul...            497"
      ]
     },
     "execution_count": 8,
     "metadata": {},
     "output_type": "execute_result"
    }
   ],
   "source": [
    "# Replace [removed] and [deleted] with ''\n",
    "merged_df['selftext_edit'] = merged_df['selftext'].replace(['[removed]', '[deleted]'], '')\n",
    "pd.DataFrame(merged_df['selftext_edit'].value_counts()).head(3)"
   ]
  },
  {
   "cell_type": "code",
   "execution_count": 9,
   "id": "7b752a29-4e91-4926-b028-8a22964c292d",
   "metadata": {},
   "outputs": [],
   "source": [
    "# Combine titles and bodies\n",
    "merged_df['combined'] = merged_df['title'] + ' ' + merged_df['selftext_edit']\n",
    "merged_df = merged_df.drop(['selftext_edit'], axis=1)"
   ]
  },
  {
   "cell_type": "code",
   "execution_count": 10,
   "id": "8ec5015c-c08f-4981-a3ac-8b67e3b68abf",
   "metadata": {},
   "outputs": [],
   "source": [
    "# Add removed/deleted indicator\n",
    "merged_df['is_removed'] = False\n",
    "merged_df.loc[merged_df['selftext'] == '[removed]', 'is_removed'] = True\n",
    "\n",
    "merged_df['is_deleted'] = False\n",
    "merged_df.loc[merged_df['selftext'] == '[deleted]', 'is_deleted'] = True"
   ]
  },
  {
   "cell_type": "code",
   "execution_count": 11,
   "id": "9cffed38-8b4e-4f99-aa18-7d1ef495f3e7",
   "metadata": {},
   "outputs": [],
   "source": [
    "stock_symbols = index_df['stock_symbol'].unique().tolist()"
   ]
  },
  {
   "cell_type": "code",
   "execution_count": 12,
   "id": "11c0ae1f-a515-4777-b165-92a8d5b2636c",
   "metadata": {},
   "outputs": [],
   "source": [
    "# for symbol in stock_symbols:\n",
    "for symbol in stock_symbols:\n",
    "    temp_df = merged_df[merged_df['stock_symbol'] == symbol]\n",
    "    temp_df.to_csv(f'prepared/{symbol}.csv', index=None)"
   ]
  }
 ],
 "metadata": {
  "environment": {
   "kernel": "python3",
   "name": "common-cpu.m109",
   "type": "gcloud",
   "uri": "gcr.io/deeplearning-platform-release/base-cpu:m109"
  },
  "kernelspec": {
   "display_name": "Python 3",
   "language": "python",
   "name": "python3"
  },
  "language_info": {
   "codemirror_mode": {
    "name": "ipython",
    "version": 3
   },
   "file_extension": ".py",
   "mimetype": "text/x-python",
   "name": "python",
   "nbconvert_exporter": "python",
   "pygments_lexer": "ipython3",
   "version": "3.10.11"
  }
 },
 "nbformat": 4,
 "nbformat_minor": 5
}
